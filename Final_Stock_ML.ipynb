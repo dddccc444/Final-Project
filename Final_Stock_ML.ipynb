{
 "cells": [
  {
   "cell_type": "code",
   "execution_count": 4,
   "metadata": {},
   "outputs": [],
   "source": [
    "# Dependencies\n",
    "import requests\n",
    "import json\n",
    "import pandas as pd \n",
    "import numpy as np\n",
    "import quandl "
   ]
  },
  {
   "cell_type": "code",
   "execution_count": 5,
   "metadata": {},
   "outputs": [],
   "source": [
    "quandl.ApiConfig.api_key = 'vB6oHc1F6yUH6gUMZTEe'"
   ]
  },
  {
   "cell_type": "code",
   "execution_count": null,
   "metadata": {},
   "outputs": [],
   "source": [
    "question = (\"What stock data would you like to search for? \")\n",
    "stock_ticker = input(question)"
   ]
  },
  {
   "cell_type": "code",
   "execution_count": 8,
   "metadata": {},
   "outputs": [],
   "source": [
    "stock_open_close = quandl.get('EOD/Aapl', api_key='vB6oHc1F6yUH6gUMZTEe')\n"
   ]
  },
  {
   "cell_type": "code",
   "execution_count": 9,
   "metadata": {},
   "outputs": [
    {
     "data": {
      "text/html": [
       "<div>\n",
       "<style scoped>\n",
       "    .dataframe tbody tr th:only-of-type {\n",
       "        vertical-align: middle;\n",
       "    }\n",
       "\n",
       "    .dataframe tbody tr th {\n",
       "        vertical-align: top;\n",
       "    }\n",
       "\n",
       "    .dataframe thead th {\n",
       "        text-align: right;\n",
       "    }\n",
       "</style>\n",
       "<table border=\"1\" class=\"dataframe\">\n",
       "  <thead>\n",
       "    <tr style=\"text-align: right;\">\n",
       "      <th></th>\n",
       "      <th>Open</th>\n",
       "      <th>High</th>\n",
       "      <th>Low</th>\n",
       "      <th>Close</th>\n",
       "      <th>Volume</th>\n",
       "      <th>Dividend</th>\n",
       "      <th>Split</th>\n",
       "      <th>Adj_Open</th>\n",
       "      <th>Adj_High</th>\n",
       "      <th>Adj_Low</th>\n",
       "      <th>Adj_Close</th>\n",
       "      <th>Adj_Volume</th>\n",
       "    </tr>\n",
       "    <tr>\n",
       "      <th>Date</th>\n",
       "      <th></th>\n",
       "      <th></th>\n",
       "      <th></th>\n",
       "      <th></th>\n",
       "      <th></th>\n",
       "      <th></th>\n",
       "      <th></th>\n",
       "      <th></th>\n",
       "      <th></th>\n",
       "      <th></th>\n",
       "      <th></th>\n",
       "      <th></th>\n",
       "    </tr>\n",
       "  </thead>\n",
       "  <tbody>\n",
       "    <tr>\n",
       "      <td>2013-09-03</td>\n",
       "      <td>493.10</td>\n",
       "      <td>500.60</td>\n",
       "      <td>487.35</td>\n",
       "      <td>488.580</td>\n",
       "      <td>11854600.0</td>\n",
       "      <td>0.0</td>\n",
       "      <td>1.0</td>\n",
       "      <td>62.867770</td>\n",
       "      <td>63.823982</td>\n",
       "      <td>62.134674</td>\n",
       "      <td>62.291493</td>\n",
       "      <td>82982200.0</td>\n",
       "    </tr>\n",
       "    <tr>\n",
       "      <td>2013-09-04</td>\n",
       "      <td>499.56</td>\n",
       "      <td>502.24</td>\n",
       "      <td>496.28</td>\n",
       "      <td>498.691</td>\n",
       "      <td>12322600.0</td>\n",
       "      <td>0.0</td>\n",
       "      <td>1.0</td>\n",
       "      <td>63.691388</td>\n",
       "      <td>64.033074</td>\n",
       "      <td>63.273204</td>\n",
       "      <td>63.580594</td>\n",
       "      <td>86258200.0</td>\n",
       "    </tr>\n",
       "    <tr>\n",
       "      <td>2013-09-05</td>\n",
       "      <td>500.25</td>\n",
       "      <td>500.68</td>\n",
       "      <td>493.64</td>\n",
       "      <td>495.270</td>\n",
       "      <td>8441700.0</td>\n",
       "      <td>0.0</td>\n",
       "      <td>1.0</td>\n",
       "      <td>63.779359</td>\n",
       "      <td>63.834182</td>\n",
       "      <td>62.936617</td>\n",
       "      <td>63.144434</td>\n",
       "      <td>59091900.0</td>\n",
       "    </tr>\n",
       "    <tr>\n",
       "      <td>2013-09-06</td>\n",
       "      <td>498.44</td>\n",
       "      <td>499.38</td>\n",
       "      <td>489.95</td>\n",
       "      <td>498.220</td>\n",
       "      <td>12840200.0</td>\n",
       "      <td>0.0</td>\n",
       "      <td>1.0</td>\n",
       "      <td>63.548593</td>\n",
       "      <td>63.668439</td>\n",
       "      <td>62.466161</td>\n",
       "      <td>63.520544</td>\n",
       "      <td>89881400.0</td>\n",
       "    </tr>\n",
       "    <tr>\n",
       "      <td>2013-09-09</td>\n",
       "      <td>505.00</td>\n",
       "      <td>507.92</td>\n",
       "      <td>503.48</td>\n",
       "      <td>506.170</td>\n",
       "      <td>12167400.0</td>\n",
       "      <td>0.0</td>\n",
       "      <td>1.0</td>\n",
       "      <td>64.384960</td>\n",
       "      <td>64.757246</td>\n",
       "      <td>64.191168</td>\n",
       "      <td>64.534129</td>\n",
       "      <td>85171800.0</td>\n",
       "    </tr>\n",
       "  </tbody>\n",
       "</table>\n",
       "</div>"
      ],
      "text/plain": [
       "              Open    High     Low    Close      Volume  Dividend  Split  \\\n",
       "Date                                                                       \n",
       "2013-09-03  493.10  500.60  487.35  488.580  11854600.0       0.0    1.0   \n",
       "2013-09-04  499.56  502.24  496.28  498.691  12322600.0       0.0    1.0   \n",
       "2013-09-05  500.25  500.68  493.64  495.270   8441700.0       0.0    1.0   \n",
       "2013-09-06  498.44  499.38  489.95  498.220  12840200.0       0.0    1.0   \n",
       "2013-09-09  505.00  507.92  503.48  506.170  12167400.0       0.0    1.0   \n",
       "\n",
       "             Adj_Open   Adj_High    Adj_Low  Adj_Close  Adj_Volume  \n",
       "Date                                                                \n",
       "2013-09-03  62.867770  63.823982  62.134674  62.291493  82982200.0  \n",
       "2013-09-04  63.691388  64.033074  63.273204  63.580594  86258200.0  \n",
       "2013-09-05  63.779359  63.834182  62.936617  63.144434  59091900.0  \n",
       "2013-09-06  63.548593  63.668439  62.466161  63.520544  89881400.0  \n",
       "2013-09-09  64.384960  64.757246  64.191168  64.534129  85171800.0  "
      ]
     },
     "execution_count": 9,
     "metadata": {},
     "output_type": "execute_result"
    }
   ],
   "source": [
    "stock_open_close.head()"
   ]
  },
  {
   "cell_type": "code",
   "execution_count": 10,
   "metadata": {},
   "outputs": [],
   "source": [
    "stock_open_close_df = stock_open_close[['Open','High','Low','Close','Volume']]\n",
    "stock_open_close_df = stock_open_close_df.reset_index()\n"
   ]
  },
  {
   "cell_type": "code",
   "execution_count": 11,
   "metadata": {},
   "outputs": [
    {
     "data": {
      "text/html": [
       "<div>\n",
       "<style scoped>\n",
       "    .dataframe tbody tr th:only-of-type {\n",
       "        vertical-align: middle;\n",
       "    }\n",
       "\n",
       "    .dataframe tbody tr th {\n",
       "        vertical-align: top;\n",
       "    }\n",
       "\n",
       "    .dataframe thead th {\n",
       "        text-align: right;\n",
       "    }\n",
       "</style>\n",
       "<table border=\"1\" class=\"dataframe\">\n",
       "  <thead>\n",
       "    <tr style=\"text-align: right;\">\n",
       "      <th></th>\n",
       "      <th>Date</th>\n",
       "      <th>Open</th>\n",
       "      <th>High</th>\n",
       "      <th>Low</th>\n",
       "      <th>Close</th>\n",
       "      <th>Volume</th>\n",
       "    </tr>\n",
       "  </thead>\n",
       "  <tbody>\n",
       "    <tr>\n",
       "      <td>0</td>\n",
       "      <td>2013-09-03</td>\n",
       "      <td>493.10</td>\n",
       "      <td>500.60</td>\n",
       "      <td>487.35</td>\n",
       "      <td>488.580</td>\n",
       "      <td>11854600.0</td>\n",
       "    </tr>\n",
       "    <tr>\n",
       "      <td>1</td>\n",
       "      <td>2013-09-04</td>\n",
       "      <td>499.56</td>\n",
       "      <td>502.24</td>\n",
       "      <td>496.28</td>\n",
       "      <td>498.691</td>\n",
       "      <td>12322600.0</td>\n",
       "    </tr>\n",
       "    <tr>\n",
       "      <td>2</td>\n",
       "      <td>2013-09-05</td>\n",
       "      <td>500.25</td>\n",
       "      <td>500.68</td>\n",
       "      <td>493.64</td>\n",
       "      <td>495.270</td>\n",
       "      <td>8441700.0</td>\n",
       "    </tr>\n",
       "    <tr>\n",
       "      <td>3</td>\n",
       "      <td>2013-09-06</td>\n",
       "      <td>498.44</td>\n",
       "      <td>499.38</td>\n",
       "      <td>489.95</td>\n",
       "      <td>498.220</td>\n",
       "      <td>12840200.0</td>\n",
       "    </tr>\n",
       "    <tr>\n",
       "      <td>4</td>\n",
       "      <td>2013-09-09</td>\n",
       "      <td>505.00</td>\n",
       "      <td>507.92</td>\n",
       "      <td>503.48</td>\n",
       "      <td>506.170</td>\n",
       "      <td>12167400.0</td>\n",
       "    </tr>\n",
       "  </tbody>\n",
       "</table>\n",
       "</div>"
      ],
      "text/plain": [
       "        Date    Open    High     Low    Close      Volume\n",
       "0 2013-09-03  493.10  500.60  487.35  488.580  11854600.0\n",
       "1 2013-09-04  499.56  502.24  496.28  498.691  12322600.0\n",
       "2 2013-09-05  500.25  500.68  493.64  495.270   8441700.0\n",
       "3 2013-09-06  498.44  499.38  489.95  498.220  12840200.0\n",
       "4 2013-09-09  505.00  507.92  503.48  506.170  12167400.0"
      ]
     },
     "execution_count": 11,
     "metadata": {},
     "output_type": "execute_result"
    }
   ],
   "source": [
    "stock_open_close_df.head()"
   ]
  },
  {
   "cell_type": "code",
   "execution_count": 12,
   "metadata": {},
   "outputs": [],
   "source": [
    "data = stock_open_close_df\n",
    "stock_average_open = np.mean(data['Open'])\n",
    "stock_std_open = np.std(data['Open'])\n",
    "stock_high_open = np.max(data['Open'])\n",
    "stock_low_open = np.min(data['Open'])"
   ]
  },
  {
   "cell_type": "code",
   "execution_count": 13,
   "metadata": {},
   "outputs": [],
   "source": [
    "stock_average_high = np.mean(data['High'])\n",
    "stock_std_high = np.std(data['High'])\n",
    "stock_high_high = np.max(data['High'])\n",
    "stock_low_high = np.min(data['High'])"
   ]
  },
  {
   "cell_type": "code",
   "execution_count": 14,
   "metadata": {},
   "outputs": [],
   "source": [
    "stock_average_low = np.mean(data['Low'])\n",
    "stock_std_low = np.std(data['Low'])\n",
    "stock_high_low = np.max(data['Low'])\n",
    "stock_low_low = np.min(data['Low'])"
   ]
  },
  {
   "cell_type": "code",
   "execution_count": 15,
   "metadata": {},
   "outputs": [],
   "source": [
    "stock_average_close = np.mean(data['Close'])\n",
    "stock_std_close = np.std(data['Close'])\n",
    "stock_high_close = np.max(data['Close'])\n",
    "stock_low_close = np.min(data['Close'])"
   ]
  },
  {
   "cell_type": "code",
   "execution_count": 16,
   "metadata": {},
   "outputs": [],
   "source": [
    "stock_average_volume = np.mean(data['Volume'])\n",
    "stock_std_volume = np.std(data['Volume'])\n",
    "stock_high_volume = np.max(data['Volume'])\n",
    "stock_low_volume  = np.min(data['Volume'])"
   ]
  },
  {
   "cell_type": "code",
   "execution_count": 17,
   "metadata": {},
   "outputs": [],
   "source": [
    "stock_mean_std = []"
   ]
  },
  {
   "cell_type": "code",
   "execution_count": 18,
   "metadata": {},
   "outputs": [],
   "source": [
    "d = {'Row Label': [\"Average\", \"Standard Deviation\", \"High\", \"Low\"], \n",
    "     'Open': [stock_average_open, stock_std_open, stock_high_open, stock_low_open],\n",
    "     'High': [stock_average_high, stock_std_high, stock_high_high, stock_low_high], \n",
    "     'Low': [stock_average_low, stock_std_low, stock_high_low, stock_low_low], \n",
    "     'Close': [stock_average_close, stock_std_close, stock_high_close, stock_low_close],\n",
    "     'Volume': [stock_average_volume, stock_std_volume, stock_high_volume, stock_low_volume]}\n",
    "df = pd.DataFrame(data=d)"
   ]
  },
  {
   "cell_type": "code",
   "execution_count": 19,
   "metadata": {},
   "outputs": [
    {
     "data": {
      "text/html": [
       "<div>\n",
       "<style scoped>\n",
       "    .dataframe tbody tr th:only-of-type {\n",
       "        vertical-align: middle;\n",
       "    }\n",
       "\n",
       "    .dataframe tbody tr th {\n",
       "        vertical-align: top;\n",
       "    }\n",
       "\n",
       "    .dataframe thead th {\n",
       "        text-align: right;\n",
       "    }\n",
       "</style>\n",
       "<table border=\"1\" class=\"dataframe\">\n",
       "  <thead>\n",
       "    <tr style=\"text-align: right;\">\n",
       "      <th></th>\n",
       "      <th>Row Label</th>\n",
       "      <th>Open</th>\n",
       "      <th>High</th>\n",
       "      <th>Low</th>\n",
       "      <th>Close</th>\n",
       "      <th>Volume</th>\n",
       "    </tr>\n",
       "  </thead>\n",
       "  <tbody>\n",
       "    <tr>\n",
       "      <td>0</td>\n",
       "      <td>Average</td>\n",
       "      <td>194.564537</td>\n",
       "      <td>196.114735</td>\n",
       "      <td>193.016676</td>\n",
       "      <td>194.613130</td>\n",
       "      <td>3.605114e+07</td>\n",
       "    </tr>\n",
       "    <tr>\n",
       "      <td>1</td>\n",
       "      <td>Standard Deviation</td>\n",
       "      <td>160.489179</td>\n",
       "      <td>161.738655</td>\n",
       "      <td>159.334242</td>\n",
       "      <td>160.573828</td>\n",
       "      <td>2.193466e+07</td>\n",
       "    </tr>\n",
       "    <tr>\n",
       "      <td>2</td>\n",
       "      <td>High</td>\n",
       "      <td>649.900000</td>\n",
       "      <td>651.260000</td>\n",
       "      <td>644.470000</td>\n",
       "      <td>647.350000</td>\n",
       "      <td>1.895606e+08</td>\n",
       "    </tr>\n",
       "    <tr>\n",
       "      <td>3</td>\n",
       "      <td>Low</td>\n",
       "      <td>90.000000</td>\n",
       "      <td>90.700000</td>\n",
       "      <td>89.470000</td>\n",
       "      <td>90.280000</td>\n",
       "      <td>5.704900e+06</td>\n",
       "    </tr>\n",
       "  </tbody>\n",
       "</table>\n",
       "</div>"
      ],
      "text/plain": [
       "            Row Label        Open        High         Low       Close  \\\n",
       "0             Average  194.564537  196.114735  193.016676  194.613130   \n",
       "1  Standard Deviation  160.489179  161.738655  159.334242  160.573828   \n",
       "2                High  649.900000  651.260000  644.470000  647.350000   \n",
       "3                 Low   90.000000   90.700000   89.470000   90.280000   \n",
       "\n",
       "         Volume  \n",
       "0  3.605114e+07  \n",
       "1  2.193466e+07  \n",
       "2  1.895606e+08  \n",
       "3  5.704900e+06  "
      ]
     },
     "execution_count": 19,
     "metadata": {},
     "output_type": "execute_result"
    }
   ],
   "source": [
    "df"
   ]
  },
  {
   "cell_type": "code",
   "execution_count": null,
   "metadata": {},
   "outputs": [],
   "source": [
    "stock_average_open"
   ]
  },
  {
   "cell_type": "code",
   "execution_count": 24,
   "metadata": {},
   "outputs": [],
   "source": [
    "y = stock_open_close_df[\"Close\"]\n",
    "X = stock_open_close_df.drop(columns = [\"Close\", \"Date\"])"
   ]
  },
  {
   "cell_type": "code",
   "execution_count": 25,
   "metadata": {},
   "outputs": [],
   "source": [
    "from sklearn.model_selection import train_test_split\n",
    "\n",
    "X_train, X_test, y_train, y_test = train_test_split(X, y, random_state=42)"
   ]
  },
  {
   "cell_type": "code",
   "execution_count": 26,
   "metadata": {},
   "outputs": [
    {
     "data": {
      "text/html": [
       "<div>\n",
       "<style scoped>\n",
       "    .dataframe tbody tr th:only-of-type {\n",
       "        vertical-align: middle;\n",
       "    }\n",
       "\n",
       "    .dataframe tbody tr th {\n",
       "        vertical-align: top;\n",
       "    }\n",
       "\n",
       "    .dataframe thead th {\n",
       "        text-align: right;\n",
       "    }\n",
       "</style>\n",
       "<table border=\"1\" class=\"dataframe\">\n",
       "  <thead>\n",
       "    <tr style=\"text-align: right;\">\n",
       "      <th></th>\n",
       "      <th>Open</th>\n",
       "      <th>High</th>\n",
       "      <th>Low</th>\n",
       "      <th>Volume</th>\n",
       "    </tr>\n",
       "  </thead>\n",
       "  <tbody>\n",
       "    <tr>\n",
       "      <td>92</td>\n",
       "      <td>538.22</td>\n",
       "      <td>546.73</td>\n",
       "      <td>537.66</td>\n",
       "      <td>11877200.0</td>\n",
       "    </tr>\n",
       "    <tr>\n",
       "      <td>695</td>\n",
       "      <td>99.25</td>\n",
       "      <td>99.87</td>\n",
       "      <td>98.96</td>\n",
       "      <td>22409450.0</td>\n",
       "    </tr>\n",
       "    <tr>\n",
       "      <td>1050</td>\n",
       "      <td>169.87</td>\n",
       "      <td>169.94</td>\n",
       "      <td>165.61</td>\n",
       "      <td>33637762.0</td>\n",
       "    </tr>\n",
       "    <tr>\n",
       "      <td>759</td>\n",
       "      <td>107.83</td>\n",
       "      <td>108.76</td>\n",
       "      <td>107.07</td>\n",
       "      <td>42364328.0</td>\n",
       "    </tr>\n",
       "    <tr>\n",
       "      <td>294</td>\n",
       "      <td>108.01</td>\n",
       "      <td>108.04</td>\n",
       "      <td>107.21</td>\n",
       "      <td>44639285.0</td>\n",
       "    </tr>\n",
       "  </tbody>\n",
       "</table>\n",
       "</div>"
      ],
      "text/plain": [
       "        Open    High     Low      Volume\n",
       "92    538.22  546.73  537.66  11877200.0\n",
       "695    99.25   99.87   98.96  22409450.0\n",
       "1050  169.87  169.94  165.61  33637762.0\n",
       "759   107.83  108.76  107.07  42364328.0\n",
       "294   108.01  108.04  107.21  44639285.0"
      ]
     },
     "execution_count": 26,
     "metadata": {},
     "output_type": "execute_result"
    }
   ],
   "source": [
    "X_train.head()"
   ]
  },
  {
   "cell_type": "code",
   "execution_count": 27,
   "metadata": {},
   "outputs": [],
   "source": [
    "from sklearn.preprocessing import LabelEncoder, MinMaxScaler\n",
    "\n",
    "X_scaler = MinMaxScaler().fit(X_train)\n",
    "X_train_scaled = X_scaler.transform(X_train)\n",
    "X_test_scaled = X_scaler.transform(X_test)"
   ]
  },
  {
   "cell_type": "code",
   "execution_count": 28,
   "metadata": {},
   "outputs": [
    {
     "ename": "ValueError",
     "evalue": "y contains previously unseen labels: [92.08, 92.18, 93.24, 93.4, 93.48, 93.52, 93.7, 94.02, 94.03, 94.27, 94.4, 94.43, 94.78, 94.99, 95.1, 95.39, 95.53, 95.59, 95.97, 96.04, 96.66, 96.79, 97.14, 97.72, 97.82, 97.92, 97.99, 98.63, 98.78, 99.43, 99.44, 99.52, 99.81, 99.9, 100.11, 100.35, 100.57, 100.58, 100.8, 100.889, 101.06, 101.42, 101.5, 101.63, 102.47, 103.01, 103.12, 103.13, 104.34, 104.35, 105.08, 105.11, 105.22, 105.35, 105.52, 105.99, 106.0, 106.1, 106.73, 106.94, 107.11, 107.34, 107.48, 107.7, 107.73, 108.6, 108.7, 108.81, 108.84, 108.98, 109.01, 109.06, 109.22, 109.25, 109.33, 109.73, 109.8, 109.9, 109.99, 110.41, 110.44, 111.59, 111.78, 111.95, 112.31, 112.71, 113.91, 114.55, 114.67, 115.0, 115.15, 115.21, 115.28, 115.47, 115.62, 116.29, 116.31, 116.41, 116.47, 116.95, 116.98, 117.06, 117.12, 117.29, 117.34, 117.47, 118.44, 118.9, 119.25, 119.94, 119.99, 121.3, 121.35, 122.0, 122.02, 122.77, 122.99, 124.51, 125.32, 125.8, 125.865, 125.9, 126.0, 126.3, 126.32, 126.75, 126.85, 126.92, 127.08, 127.14, 127.17, 127.495, 128.62, 128.715, 128.77, 128.88, 129.08, 130.07, 130.12, 130.19, 131.39, 131.53, 132.17, 138.99, 139.0, 139.78, 140.92, 141.05, 141.46, 142.44, 143.34, 143.79, 143.93, 144.09, 145.06, 145.16, 145.42, 146.28, 146.58, 146.59, 147.77, 149.56, 150.25, 151.89, 153.01, 153.06, 153.26, 153.61, 153.87, 153.93, 154.48, 155.37, 155.45, 155.84, 156.17, 156.25, 156.41, 157.14, 157.41, 157.5, 157.86, 158.63, 158.67, 159.78, 160.86, 161.26, 161.91, 162.91, 164.05, 169.98, 171.34, 173.14, 174.35, 175.88, 455.32, 467.71, 472.3, 480.94, 483.03, 495.27, 498.22, 498.68, 501.114, 506.5, 508.79, 512.59, 515.0, 518.629, 519.048, 519.55, 519.68, 519.8, 520.634, 522.06, 523.74, 526.75, 529.876, 531.17, 531.26, 533.4, 539.19, 539.78, 543.46, 543.93, 544.43, 544.46, 549.07, 550.5, 551.23, 554.43, 560.02, 561.02, 561.36, 567.901, 570.09, 593.76, 600.96, 604.59, 624.01]",
     "output_type": "error",
     "traceback": [
      "\u001b[1;31m---------------------------------------------------------------------------\u001b[0m",
      "\u001b[1;31mValueError\u001b[0m                                Traceback (most recent call last)",
      "\u001b[1;32m<ipython-input-28-1c9451527197>\u001b[0m in \u001b[0;36m<module>\u001b[1;34m\u001b[0m\n\u001b[0;32m      4\u001b[0m \u001b[0mlabel_encoder\u001b[0m\u001b[1;33m.\u001b[0m\u001b[0mfit\u001b[0m\u001b[1;33m(\u001b[0m\u001b[0my_train\u001b[0m\u001b[1;33m)\u001b[0m\u001b[1;33m\u001b[0m\u001b[1;33m\u001b[0m\u001b[0m\n\u001b[0;32m      5\u001b[0m \u001b[0mencoded_y_train\u001b[0m \u001b[1;33m=\u001b[0m \u001b[0mlabel_encoder\u001b[0m\u001b[1;33m.\u001b[0m\u001b[0mtransform\u001b[0m\u001b[1;33m(\u001b[0m\u001b[0my_train\u001b[0m\u001b[1;33m)\u001b[0m\u001b[1;33m\u001b[0m\u001b[1;33m\u001b[0m\u001b[0m\n\u001b[1;32m----> 6\u001b[1;33m \u001b[0mencoded_y_test\u001b[0m \u001b[1;33m=\u001b[0m \u001b[0mlabel_encoder\u001b[0m\u001b[1;33m.\u001b[0m\u001b[0mtransform\u001b[0m\u001b[1;33m(\u001b[0m\u001b[0my_test\u001b[0m\u001b[1;33m)\u001b[0m\u001b[1;33m\u001b[0m\u001b[1;33m\u001b[0m\u001b[0m\n\u001b[0m\u001b[0;32m      7\u001b[0m \u001b[1;33m\u001b[0m\u001b[0m\n\u001b[0;32m      8\u001b[0m \u001b[0my_train_categorical\u001b[0m \u001b[1;33m=\u001b[0m \u001b[0mto_categorical\u001b[0m\u001b[1;33m(\u001b[0m\u001b[0mencoded_y_train\u001b[0m\u001b[1;33m)\u001b[0m\u001b[1;33m\u001b[0m\u001b[1;33m\u001b[0m\u001b[0m\n",
      "\u001b[1;32m~\\Anaconda3\\lib\\site-packages\\sklearn\\preprocessing\\label.py\u001b[0m in \u001b[0;36mtransform\u001b[1;34m(self, y)\u001b[0m\n\u001b[0;32m    255\u001b[0m             \u001b[1;32mreturn\u001b[0m \u001b[0mnp\u001b[0m\u001b[1;33m.\u001b[0m\u001b[0marray\u001b[0m\u001b[1;33m(\u001b[0m\u001b[1;33m[\u001b[0m\u001b[1;33m]\u001b[0m\u001b[1;33m)\u001b[0m\u001b[1;33m\u001b[0m\u001b[1;33m\u001b[0m\u001b[0m\n\u001b[0;32m    256\u001b[0m \u001b[1;33m\u001b[0m\u001b[0m\n\u001b[1;32m--> 257\u001b[1;33m         \u001b[0m_\u001b[0m\u001b[1;33m,\u001b[0m \u001b[0my\u001b[0m \u001b[1;33m=\u001b[0m \u001b[0m_encode\u001b[0m\u001b[1;33m(\u001b[0m\u001b[0my\u001b[0m\u001b[1;33m,\u001b[0m \u001b[0muniques\u001b[0m\u001b[1;33m=\u001b[0m\u001b[0mself\u001b[0m\u001b[1;33m.\u001b[0m\u001b[0mclasses_\u001b[0m\u001b[1;33m,\u001b[0m \u001b[0mencode\u001b[0m\u001b[1;33m=\u001b[0m\u001b[1;32mTrue\u001b[0m\u001b[1;33m)\u001b[0m\u001b[1;33m\u001b[0m\u001b[1;33m\u001b[0m\u001b[0m\n\u001b[0m\u001b[0;32m    258\u001b[0m         \u001b[1;32mreturn\u001b[0m \u001b[0my\u001b[0m\u001b[1;33m\u001b[0m\u001b[1;33m\u001b[0m\u001b[0m\n\u001b[0;32m    259\u001b[0m \u001b[1;33m\u001b[0m\u001b[0m\n",
      "\u001b[1;32m~\\Anaconda3\\lib\\site-packages\\sklearn\\preprocessing\\label.py\u001b[0m in \u001b[0;36m_encode\u001b[1;34m(values, uniques, encode)\u001b[0m\n\u001b[0;32m    108\u001b[0m         \u001b[1;32mreturn\u001b[0m \u001b[0mres\u001b[0m\u001b[1;33m\u001b[0m\u001b[1;33m\u001b[0m\u001b[0m\n\u001b[0;32m    109\u001b[0m     \u001b[1;32melse\u001b[0m\u001b[1;33m:\u001b[0m\u001b[1;33m\u001b[0m\u001b[1;33m\u001b[0m\u001b[0m\n\u001b[1;32m--> 110\u001b[1;33m         \u001b[1;32mreturn\u001b[0m \u001b[0m_encode_numpy\u001b[0m\u001b[1;33m(\u001b[0m\u001b[0mvalues\u001b[0m\u001b[1;33m,\u001b[0m \u001b[0muniques\u001b[0m\u001b[1;33m,\u001b[0m \u001b[0mencode\u001b[0m\u001b[1;33m)\u001b[0m\u001b[1;33m\u001b[0m\u001b[1;33m\u001b[0m\u001b[0m\n\u001b[0m\u001b[0;32m    111\u001b[0m \u001b[1;33m\u001b[0m\u001b[0m\n\u001b[0;32m    112\u001b[0m \u001b[1;33m\u001b[0m\u001b[0m\n",
      "\u001b[1;32m~\\Anaconda3\\lib\\site-packages\\sklearn\\preprocessing\\label.py\u001b[0m in \u001b[0;36m_encode_numpy\u001b[1;34m(values, uniques, encode)\u001b[0m\n\u001b[0;32m     47\u001b[0m         \u001b[1;32mif\u001b[0m \u001b[0mdiff\u001b[0m\u001b[1;33m:\u001b[0m\u001b[1;33m\u001b[0m\u001b[1;33m\u001b[0m\u001b[0m\n\u001b[0;32m     48\u001b[0m             raise ValueError(\"y contains previously unseen labels: %s\"\n\u001b[1;32m---> 49\u001b[1;33m                              % str(diff))\n\u001b[0m\u001b[0;32m     50\u001b[0m         \u001b[0mencoded\u001b[0m \u001b[1;33m=\u001b[0m \u001b[0mnp\u001b[0m\u001b[1;33m.\u001b[0m\u001b[0msearchsorted\u001b[0m\u001b[1;33m(\u001b[0m\u001b[0muniques\u001b[0m\u001b[1;33m,\u001b[0m \u001b[0mvalues\u001b[0m\u001b[1;33m)\u001b[0m\u001b[1;33m\u001b[0m\u001b[1;33m\u001b[0m\u001b[0m\n\u001b[0;32m     51\u001b[0m         \u001b[1;32mreturn\u001b[0m \u001b[0muniques\u001b[0m\u001b[1;33m,\u001b[0m \u001b[0mencoded\u001b[0m\u001b[1;33m\u001b[0m\u001b[1;33m\u001b[0m\u001b[0m\n",
      "\u001b[1;31mValueError\u001b[0m: y contains previously unseen labels: [92.08, 92.18, 93.24, 93.4, 93.48, 93.52, 93.7, 94.02, 94.03, 94.27, 94.4, 94.43, 94.78, 94.99, 95.1, 95.39, 95.53, 95.59, 95.97, 96.04, 96.66, 96.79, 97.14, 97.72, 97.82, 97.92, 97.99, 98.63, 98.78, 99.43, 99.44, 99.52, 99.81, 99.9, 100.11, 100.35, 100.57, 100.58, 100.8, 100.889, 101.06, 101.42, 101.5, 101.63, 102.47, 103.01, 103.12, 103.13, 104.34, 104.35, 105.08, 105.11, 105.22, 105.35, 105.52, 105.99, 106.0, 106.1, 106.73, 106.94, 107.11, 107.34, 107.48, 107.7, 107.73, 108.6, 108.7, 108.81, 108.84, 108.98, 109.01, 109.06, 109.22, 109.25, 109.33, 109.73, 109.8, 109.9, 109.99, 110.41, 110.44, 111.59, 111.78, 111.95, 112.31, 112.71, 113.91, 114.55, 114.67, 115.0, 115.15, 115.21, 115.28, 115.47, 115.62, 116.29, 116.31, 116.41, 116.47, 116.95, 116.98, 117.06, 117.12, 117.29, 117.34, 117.47, 118.44, 118.9, 119.25, 119.94, 119.99, 121.3, 121.35, 122.0, 122.02, 122.77, 122.99, 124.51, 125.32, 125.8, 125.865, 125.9, 126.0, 126.3, 126.32, 126.75, 126.85, 126.92, 127.08, 127.14, 127.17, 127.495, 128.62, 128.715, 128.77, 128.88, 129.08, 130.07, 130.12, 130.19, 131.39, 131.53, 132.17, 138.99, 139.0, 139.78, 140.92, 141.05, 141.46, 142.44, 143.34, 143.79, 143.93, 144.09, 145.06, 145.16, 145.42, 146.28, 146.58, 146.59, 147.77, 149.56, 150.25, 151.89, 153.01, 153.06, 153.26, 153.61, 153.87, 153.93, 154.48, 155.37, 155.45, 155.84, 156.17, 156.25, 156.41, 157.14, 157.41, 157.5, 157.86, 158.63, 158.67, 159.78, 160.86, 161.26, 161.91, 162.91, 164.05, 169.98, 171.34, 173.14, 174.35, 175.88, 455.32, 467.71, 472.3, 480.94, 483.03, 495.27, 498.22, 498.68, 501.114, 506.5, 508.79, 512.59, 515.0, 518.629, 519.048, 519.55, 519.68, 519.8, 520.634, 522.06, 523.74, 526.75, 529.876, 531.17, 531.26, 533.4, 539.19, 539.78, 543.46, 543.93, 544.43, 544.46, 549.07, 550.5, 551.23, 554.43, 560.02, 561.02, 561.36, 567.901, 570.09, 593.76, 600.96, 604.59, 624.01]"
     ]
    }
   ],
   "source": [
    "from tensorflow.keras.utils import to_categorical\n",
    "\n",
    "label_encoder = LabelEncoder()\n",
    "label_encoder.fit(y_train)\n",
    "encoded_y_train = label_encoder.transform(y_train)\n",
    "encoded_y_test = label_encoder.transform(y_test)\n",
    "\n",
    "y_train_categorical = to_categorical(encoded_y_train)\n",
    "y_test_categorical = to_categorical(encoded_y_test)"
   ]
  },
  {
   "cell_type": "code",
   "execution_count": null,
   "metadata": {},
   "outputs": [],
   "source": []
  }
 ],
 "metadata": {
  "kernelspec": {
   "display_name": "Python 3",
   "language": "python",
   "name": "python3"
  },
  "language_info": {
   "codemirror_mode": {
    "name": "ipython",
    "version": 3
   },
   "file_extension": ".py",
   "mimetype": "text/x-python",
   "name": "python",
   "nbconvert_exporter": "python",
   "pygments_lexer": "ipython3",
   "version": "3.7.4"
  }
 },
 "nbformat": 4,
 "nbformat_minor": 2
}
