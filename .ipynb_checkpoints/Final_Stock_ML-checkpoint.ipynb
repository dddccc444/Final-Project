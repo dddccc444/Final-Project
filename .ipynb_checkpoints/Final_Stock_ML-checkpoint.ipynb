{
 "cells": [
  {
   "cell_type": "code",
   "execution_count": 1,
   "metadata": {},
   "outputs": [],
   "source": [
    "# Dependencies\n",
    "import requests\n",
    "import json\n",
    "import pandas as pd \n",
    "import numpy as np\n",
    "import quandl "
   ]
  },
  {
   "cell_type": "code",
   "execution_count": 2,
   "metadata": {},
   "outputs": [],
   "source": [
    "quandl.ApiConfig.api_key = 'vB6oHc1F6yUH6gUMZTEe'"
   ]
  },
  {
   "cell_type": "code",
   "execution_count": 3,
   "metadata": {},
   "outputs": [],
   "source": [
    "#question = (\"What stock data would you like to search for? \")\n",
    "#stock_ticker = input(question)"
   ]
  },
  {
   "cell_type": "code",
   "execution_count": 4,
   "metadata": {},
   "outputs": [],
   "source": [
    "stock_open_close = quandl.get('EOD/HD', api_key='vB6oHc1F6yUH6gUMZTEe')\n"
   ]
  },
  {
   "cell_type": "code",
   "execution_count": 5,
   "metadata": {},
   "outputs": [
    {
     "data": {
      "text/html": [
       "<div>\n",
       "<style scoped>\n",
       "    .dataframe tbody tr th:only-of-type {\n",
       "        vertical-align: middle;\n",
       "    }\n",
       "\n",
       "    .dataframe tbody tr th {\n",
       "        vertical-align: top;\n",
       "    }\n",
       "\n",
       "    .dataframe thead th {\n",
       "        text-align: right;\n",
       "    }\n",
       "</style>\n",
       "<table border=\"1\" class=\"dataframe\">\n",
       "  <thead>\n",
       "    <tr style=\"text-align: right;\">\n",
       "      <th></th>\n",
       "      <th>Open</th>\n",
       "      <th>High</th>\n",
       "      <th>Low</th>\n",
       "      <th>Close</th>\n",
       "      <th>Volume</th>\n",
       "      <th>Dividend</th>\n",
       "      <th>Split</th>\n",
       "      <th>Adj_Open</th>\n",
       "      <th>Adj_High</th>\n",
       "      <th>Adj_Low</th>\n",
       "      <th>Adj_Close</th>\n",
       "      <th>Adj_Volume</th>\n",
       "    </tr>\n",
       "    <tr>\n",
       "      <th>Date</th>\n",
       "      <th></th>\n",
       "      <th></th>\n",
       "      <th></th>\n",
       "      <th></th>\n",
       "      <th></th>\n",
       "      <th></th>\n",
       "      <th></th>\n",
       "      <th></th>\n",
       "      <th></th>\n",
       "      <th></th>\n",
       "      <th></th>\n",
       "      <th></th>\n",
       "    </tr>\n",
       "  </thead>\n",
       "  <tbody>\n",
       "    <tr>\n",
       "      <td>2013-09-03</td>\n",
       "      <td>74.83</td>\n",
       "      <td>75.25</td>\n",
       "      <td>73.68</td>\n",
       "      <td>73.90</td>\n",
       "      <td>7802800.0</td>\n",
       "      <td>0.39</td>\n",
       "      <td>1.0</td>\n",
       "      <td>64.647239</td>\n",
       "      <td>65.010086</td>\n",
       "      <td>63.653729</td>\n",
       "      <td>63.843792</td>\n",
       "      <td>7802800.0</td>\n",
       "    </tr>\n",
       "    <tr>\n",
       "      <td>2013-09-04</td>\n",
       "      <td>73.98</td>\n",
       "      <td>74.51</td>\n",
       "      <td>73.74</td>\n",
       "      <td>74.14</td>\n",
       "      <td>8271600.0</td>\n",
       "      <td>0.00</td>\n",
       "      <td>1.0</td>\n",
       "      <td>63.912905</td>\n",
       "      <td>64.370784</td>\n",
       "      <td>63.705564</td>\n",
       "      <td>64.051133</td>\n",
       "      <td>8271600.0</td>\n",
       "    </tr>\n",
       "    <tr>\n",
       "      <td>2013-09-05</td>\n",
       "      <td>74.07</td>\n",
       "      <td>74.21</td>\n",
       "      <td>72.84</td>\n",
       "      <td>72.99</td>\n",
       "      <td>11039000.0</td>\n",
       "      <td>0.00</td>\n",
       "      <td>1.0</td>\n",
       "      <td>63.990658</td>\n",
       "      <td>64.111607</td>\n",
       "      <td>62.928035</td>\n",
       "      <td>63.057623</td>\n",
       "      <td>11039000.0</td>\n",
       "    </tr>\n",
       "    <tr>\n",
       "      <td>2013-09-06</td>\n",
       "      <td>73.55</td>\n",
       "      <td>73.56</td>\n",
       "      <td>72.21</td>\n",
       "      <td>72.70</td>\n",
       "      <td>9968400.0</td>\n",
       "      <td>0.00</td>\n",
       "      <td>1.0</td>\n",
       "      <td>63.541419</td>\n",
       "      <td>63.550058</td>\n",
       "      <td>62.383765</td>\n",
       "      <td>62.807086</td>\n",
       "      <td>9968400.0</td>\n",
       "    </tr>\n",
       "    <tr>\n",
       "      <td>2013-09-09</td>\n",
       "      <td>72.98</td>\n",
       "      <td>73.79</td>\n",
       "      <td>72.90</td>\n",
       "      <td>73.58</td>\n",
       "      <td>5781800.0</td>\n",
       "      <td>0.00</td>\n",
       "      <td>1.0</td>\n",
       "      <td>63.048984</td>\n",
       "      <td>63.748760</td>\n",
       "      <td>62.979870</td>\n",
       "      <td>63.567337</td>\n",
       "      <td>5781800.0</td>\n",
       "    </tr>\n",
       "  </tbody>\n",
       "</table>\n",
       "</div>"
      ],
      "text/plain": [
       "             Open   High    Low  Close      Volume  Dividend  Split  \\\n",
       "Date                                                                  \n",
       "2013-09-03  74.83  75.25  73.68  73.90   7802800.0      0.39    1.0   \n",
       "2013-09-04  73.98  74.51  73.74  74.14   8271600.0      0.00    1.0   \n",
       "2013-09-05  74.07  74.21  72.84  72.99  11039000.0      0.00    1.0   \n",
       "2013-09-06  73.55  73.56  72.21  72.70   9968400.0      0.00    1.0   \n",
       "2013-09-09  72.98  73.79  72.90  73.58   5781800.0      0.00    1.0   \n",
       "\n",
       "             Adj_Open   Adj_High    Adj_Low  Adj_Close  Adj_Volume  \n",
       "Date                                                                \n",
       "2013-09-03  64.647239  65.010086  63.653729  63.843792   7802800.0  \n",
       "2013-09-04  63.912905  64.370784  63.705564  64.051133   8271600.0  \n",
       "2013-09-05  63.990658  64.111607  62.928035  63.057623  11039000.0  \n",
       "2013-09-06  63.541419  63.550058  62.383765  62.807086   9968400.0  \n",
       "2013-09-09  63.048984  63.748760  62.979870  63.567337   5781800.0  "
      ]
     },
     "execution_count": 5,
     "metadata": {},
     "output_type": "execute_result"
    }
   ],
   "source": [
    "stock_open_close.head()"
   ]
  },
  {
   "cell_type": "code",
   "execution_count": 31,
   "metadata": {},
   "outputs": [
    {
     "data": {
      "text/html": [
       "<div>\n",
       "<style scoped>\n",
       "    .dataframe tbody tr th:only-of-type {\n",
       "        vertical-align: middle;\n",
       "    }\n",
       "\n",
       "    .dataframe tbody tr th {\n",
       "        vertical-align: top;\n",
       "    }\n",
       "\n",
       "    .dataframe thead th {\n",
       "        text-align: right;\n",
       "    }\n",
       "</style>\n",
       "<table border=\"1\" class=\"dataframe\">\n",
       "  <thead>\n",
       "    <tr style=\"text-align: right;\">\n",
       "      <th></th>\n",
       "      <th>Date</th>\n",
       "      <th>Open</th>\n",
       "      <th>High</th>\n",
       "      <th>Low</th>\n",
       "      <th>Close</th>\n",
       "      <th>Volume</th>\n",
       "      <th>Move</th>\n",
       "    </tr>\n",
       "  </thead>\n",
       "  <tbody>\n",
       "    <tr>\n",
       "      <td>0</td>\n",
       "      <td>2013-09-03</td>\n",
       "      <td>74.83</td>\n",
       "      <td>75.25</td>\n",
       "      <td>73.68</td>\n",
       "      <td>73.90</td>\n",
       "      <td>7802800.0</td>\n",
       "      <td>decrease</td>\n",
       "    </tr>\n",
       "    <tr>\n",
       "      <td>1</td>\n",
       "      <td>2013-09-04</td>\n",
       "      <td>73.98</td>\n",
       "      <td>74.51</td>\n",
       "      <td>73.74</td>\n",
       "      <td>74.14</td>\n",
       "      <td>8271600.0</td>\n",
       "      <td>increase</td>\n",
       "    </tr>\n",
       "    <tr>\n",
       "      <td>2</td>\n",
       "      <td>2013-09-05</td>\n",
       "      <td>74.07</td>\n",
       "      <td>74.21</td>\n",
       "      <td>72.84</td>\n",
       "      <td>72.99</td>\n",
       "      <td>11039000.0</td>\n",
       "      <td>decrease</td>\n",
       "    </tr>\n",
       "    <tr>\n",
       "      <td>3</td>\n",
       "      <td>2013-09-06</td>\n",
       "      <td>73.55</td>\n",
       "      <td>73.56</td>\n",
       "      <td>72.21</td>\n",
       "      <td>72.70</td>\n",
       "      <td>9968400.0</td>\n",
       "      <td>decrease</td>\n",
       "    </tr>\n",
       "    <tr>\n",
       "      <td>4</td>\n",
       "      <td>2013-09-09</td>\n",
       "      <td>72.98</td>\n",
       "      <td>73.79</td>\n",
       "      <td>72.90</td>\n",
       "      <td>73.58</td>\n",
       "      <td>5781800.0</td>\n",
       "      <td>increase</td>\n",
       "    </tr>\n",
       "  </tbody>\n",
       "</table>\n",
       "</div>"
      ],
      "text/plain": [
       "        Date   Open   High    Low  Close      Volume      Move\n",
       "0 2013-09-03  74.83  75.25  73.68  73.90   7802800.0  decrease\n",
       "1 2013-09-04  73.98  74.51  73.74  74.14   8271600.0  increase\n",
       "2 2013-09-05  74.07  74.21  72.84  72.99  11039000.0  decrease\n",
       "3 2013-09-06  73.55  73.56  72.21  72.70   9968400.0  decrease\n",
       "4 2013-09-09  72.98  73.79  72.90  73.58   5781800.0  increase"
      ]
     },
     "execution_count": 31,
     "metadata": {},
     "output_type": "execute_result"
    }
   ],
   "source": [
    "stock_open_close_df = stock_open_close[['Open','High','Low','Close','Volume']]\n",
    "stock_open_close_df = stock_open_close_df.reset_index()\n",
    "stock_open_close_df['Move'] = np.where((stock_open_close_df['Open'] >= df['Close']), \"decrease\", \"increase\")\n",
    "stock_open_close_df.head()"
   ]
  },
  {
   "cell_type": "code",
   "execution_count": 7,
   "metadata": {},
   "outputs": [],
   "source": [
    "data = stock_open_close_df\n",
    "stock_average_open = np.mean(data['Open'])\n",
    "stock_std_open = np.std(data['Open'])\n",
    "stock_high_open = np.max(data['Open'])\n",
    "stock_low_open = np.min(data['Open'])"
   ]
  },
  {
   "cell_type": "code",
   "execution_count": 8,
   "metadata": {},
   "outputs": [],
   "source": [
    "stock_average_high = np.mean(data['High'])\n",
    "stock_std_high = np.std(data['High'])\n",
    "stock_high_high = np.max(data['High'])\n",
    "stock_low_high = np.min(data['High'])"
   ]
  },
  {
   "cell_type": "code",
   "execution_count": 9,
   "metadata": {},
   "outputs": [],
   "source": [
    "stock_average_low = np.mean(data['Low'])\n",
    "stock_std_low = np.std(data['Low'])\n",
    "stock_high_low = np.max(data['Low'])\n",
    "stock_low_low = np.min(data['Low'])"
   ]
  },
  {
   "cell_type": "code",
   "execution_count": 10,
   "metadata": {},
   "outputs": [],
   "source": [
    "stock_average_close = np.mean(data['Close'])\n",
    "stock_std_close = np.std(data['Close'])\n",
    "stock_high_close = np.max(data['Close'])\n",
    "stock_low_close = np.min(data['Close'])"
   ]
  },
  {
   "cell_type": "code",
   "execution_count": 11,
   "metadata": {},
   "outputs": [],
   "source": [
    "stock_average_volume = np.mean(data['Volume'])\n",
    "stock_std_volume = np.std(data['Volume'])\n",
    "stock_high_volume = np.max(data['Volume'])\n",
    "stock_low_volume  = np.min(data['Volume'])"
   ]
  },
  {
   "cell_type": "code",
   "execution_count": 12,
   "metadata": {},
   "outputs": [],
   "source": [
    "stock_mean_std = []"
   ]
  },
  {
   "cell_type": "code",
   "execution_count": 13,
   "metadata": {},
   "outputs": [],
   "source": [
    "d = {'Row Label': [\"Average\", \"Standard Deviation\", \"High\", \"Low\"], \n",
    "     'Open': [stock_average_open, stock_std_open, stock_high_open, stock_low_open],\n",
    "     'High': [stock_average_high, stock_std_high, stock_high_high, stock_low_high], \n",
    "     'Low': [stock_average_low, stock_std_low, stock_high_low, stock_low_low], \n",
    "     'Close': [stock_average_close, stock_std_close, stock_high_close, stock_low_close],\n",
    "     'Volume': [stock_average_volume, stock_std_volume, stock_high_volume, stock_low_volume]}\n",
    "df = pd.DataFrame(data=d)"
   ]
  },
  {
   "cell_type": "code",
   "execution_count": 14,
   "metadata": {},
   "outputs": [
    {
     "data": {
      "text/html": [
       "<div>\n",
       "<style scoped>\n",
       "    .dataframe tbody tr th:only-of-type {\n",
       "        vertical-align: middle;\n",
       "    }\n",
       "\n",
       "    .dataframe tbody tr th {\n",
       "        vertical-align: top;\n",
       "    }\n",
       "\n",
       "    .dataframe thead th {\n",
       "        text-align: right;\n",
       "    }\n",
       "</style>\n",
       "<table border=\"1\" class=\"dataframe\">\n",
       "  <thead>\n",
       "    <tr style=\"text-align: right;\">\n",
       "      <th></th>\n",
       "      <th>Row Label</th>\n",
       "      <th>Open</th>\n",
       "      <th>High</th>\n",
       "      <th>Low</th>\n",
       "      <th>Close</th>\n",
       "      <th>Volume</th>\n",
       "    </tr>\n",
       "  </thead>\n",
       "  <tbody>\n",
       "    <tr>\n",
       "      <td>0</td>\n",
       "      <td>Average</td>\n",
       "      <td>118.182119</td>\n",
       "      <td>119.028030</td>\n",
       "      <td>117.356270</td>\n",
       "      <td>118.225661</td>\n",
       "      <td>5.415875e+06</td>\n",
       "    </tr>\n",
       "    <tr>\n",
       "      <td>1</td>\n",
       "      <td>Standard Deviation</td>\n",
       "      <td>28.169365</td>\n",
       "      <td>28.302733</td>\n",
       "      <td>28.052645</td>\n",
       "      <td>28.196353</td>\n",
       "      <td>2.273519e+06</td>\n",
       "    </tr>\n",
       "    <tr>\n",
       "      <td>2</td>\n",
       "      <td>High</td>\n",
       "      <td>190.910000</td>\n",
       "      <td>191.490000</td>\n",
       "      <td>190.010000</td>\n",
       "      <td>190.360000</td>\n",
       "      <td>2.075320e+07</td>\n",
       "    </tr>\n",
       "    <tr>\n",
       "      <td>3</td>\n",
       "      <td>Low</td>\n",
       "      <td>72.980000</td>\n",
       "      <td>73.560000</td>\n",
       "      <td>72.210000</td>\n",
       "      <td>72.700000</td>\n",
       "      <td>1.517075e+06</td>\n",
       "    </tr>\n",
       "  </tbody>\n",
       "</table>\n",
       "</div>"
      ],
      "text/plain": [
       "            Row Label        Open        High         Low       Close  \\\n",
       "0             Average  118.182119  119.028030  117.356270  118.225661   \n",
       "1  Standard Deviation   28.169365   28.302733   28.052645   28.196353   \n",
       "2                High  190.910000  191.490000  190.010000  190.360000   \n",
       "3                 Low   72.980000   73.560000   72.210000   72.700000   \n",
       "\n",
       "         Volume  \n",
       "0  5.415875e+06  \n",
       "1  2.273519e+06  \n",
       "2  2.075320e+07  \n",
       "3  1.517075e+06  "
      ]
     },
     "execution_count": 14,
     "metadata": {},
     "output_type": "execute_result"
    }
   ],
   "source": [
    "df"
   ]
  },
  {
   "cell_type": "code",
   "execution_count": 15,
   "metadata": {},
   "outputs": [
    {
     "data": {
      "text/plain": [
       "118.18211926605505"
      ]
     },
     "execution_count": 15,
     "metadata": {},
     "output_type": "execute_result"
    }
   ],
   "source": [
    "stock_average_open"
   ]
  },
  {
   "cell_type": "code",
   "execution_count": 16,
   "metadata": {},
   "outputs": [],
   "source": [
    "X = stock_open_close_df.drop(columns = [\"Close\", \"Date\"])\n",
    "y = stock_open_close_df[\"Close\"].values.reshape(-1, 1)"
   ]
  },
  {
   "cell_type": "code",
   "execution_count": 17,
   "metadata": {},
   "outputs": [
    {
     "name": "stdout",
     "output_type": "stream",
     "text": [
      "(1090, 4) (1090, 1)\n"
     ]
    }
   ],
   "source": [
    "print(X.shape, y.shape)"
   ]
  },
  {
   "cell_type": "code",
   "execution_count": 18,
   "metadata": {},
   "outputs": [],
   "source": [
    "from sklearn.model_selection import train_test_split\n",
    "\n",
    "X_train, X_test, y_train, y_test = train_test_split(X, y, random_state=42)"
   ]
  },
  {
   "cell_type": "code",
   "execution_count": 19,
   "metadata": {},
   "outputs": [
    {
     "data": {
      "text/html": [
       "<div>\n",
       "<style scoped>\n",
       "    .dataframe tbody tr th:only-of-type {\n",
       "        vertical-align: middle;\n",
       "    }\n",
       "\n",
       "    .dataframe tbody tr th {\n",
       "        vertical-align: top;\n",
       "    }\n",
       "\n",
       "    .dataframe thead th {\n",
       "        text-align: right;\n",
       "    }\n",
       "</style>\n",
       "<table border=\"1\" class=\"dataframe\">\n",
       "  <thead>\n",
       "    <tr style=\"text-align: right;\">\n",
       "      <th></th>\n",
       "      <th>Open</th>\n",
       "      <th>High</th>\n",
       "      <th>Low</th>\n",
       "      <th>Volume</th>\n",
       "    </tr>\n",
       "  </thead>\n",
       "  <tbody>\n",
       "    <tr>\n",
       "      <td>92</td>\n",
       "      <td>81.28</td>\n",
       "      <td>81.488</td>\n",
       "      <td>80.61</td>\n",
       "      <td>5217300.0</td>\n",
       "    </tr>\n",
       "    <tr>\n",
       "      <td>695</td>\n",
       "      <td>129.38</td>\n",
       "      <td>130.800</td>\n",
       "      <td>129.32</td>\n",
       "      <td>4433982.0</td>\n",
       "    </tr>\n",
       "    <tr>\n",
       "      <td>1050</td>\n",
       "      <td>166.42</td>\n",
       "      <td>166.740</td>\n",
       "      <td>165.12</td>\n",
       "      <td>3568321.0</td>\n",
       "    </tr>\n",
       "    <tr>\n",
       "      <td>759</td>\n",
       "      <td>133.30</td>\n",
       "      <td>133.870</td>\n",
       "      <td>132.16</td>\n",
       "      <td>4676049.0</td>\n",
       "    </tr>\n",
       "    <tr>\n",
       "      <td>294</td>\n",
       "      <td>98.78</td>\n",
       "      <td>99.257</td>\n",
       "      <td>97.33</td>\n",
       "      <td>6336392.0</td>\n",
       "    </tr>\n",
       "  </tbody>\n",
       "</table>\n",
       "</div>"
      ],
      "text/plain": [
       "        Open     High     Low     Volume\n",
       "92     81.28   81.488   80.61  5217300.0\n",
       "695   129.38  130.800  129.32  4433982.0\n",
       "1050  166.42  166.740  165.12  3568321.0\n",
       "759   133.30  133.870  132.16  4676049.0\n",
       "294    98.78   99.257   97.33  6336392.0"
      ]
     },
     "execution_count": 19,
     "metadata": {},
     "output_type": "execute_result"
    }
   ],
   "source": [
    "X_train.head()"
   ]
  },
  {
   "cell_type": "code",
   "execution_count": 20,
   "metadata": {},
   "outputs": [],
   "source": [
    "from sklearn.preprocessing import StandardScaler\n",
    "X_scaler = StandardScaler().fit(X_train)\n",
    "y_scaler = StandardScaler().fit(y_train)"
   ]
  },
  {
   "cell_type": "code",
   "execution_count": 21,
   "metadata": {},
   "outputs": [],
   "source": [
    "X_train_scaled = X_scaler.transform(X_train)\n",
    "X_test_scaled = X_scaler.transform(X_test)\n",
    "y_train_scaled = y_scaler.transform(y_train)\n",
    "y_test_scaled = y_scaler.transform(y_test)"
   ]
  },
  {
   "cell_type": "markdown",
   "metadata": {},
   "source": [
    "# Linear Regression"
   ]
  },
  {
   "cell_type": "code",
   "execution_count": 22,
   "metadata": {},
   "outputs": [
    {
     "data": {
      "text/plain": [
       "LinearRegression(copy_X=True, fit_intercept=True, n_jobs=None, normalize=False)"
      ]
     },
     "execution_count": 22,
     "metadata": {},
     "output_type": "execute_result"
    }
   ],
   "source": [
    "from sklearn.linear_model import LinearRegression\n",
    "model = LinearRegression()\n",
    "model.fit(X_train_scaled, y_train_scaled)"
   ]
  },
  {
   "cell_type": "code",
   "execution_count": 23,
   "metadata": {},
   "outputs": [
    {
     "name": "stdout",
     "output_type": "stream",
     "text": [
      "Weight coefficients:  [[-0.54531913  0.84650492  0.6980811  -0.00152312]]\n",
      "y-axis intercept:  [-8.53560494e-16]\n"
     ]
    }
   ],
   "source": [
    "print('Weight coefficients: ', model.coef_)\n",
    "print('y-axis intercept: ', model.intercept_) "
   ]
  },
  {
   "cell_type": "code",
   "execution_count": 24,
   "metadata": {},
   "outputs": [
    {
     "name": "stdout",
     "output_type": "stream",
     "text": [
      "True output: [73.9]\n",
      "Predicted output: [-11810.30739738]\n",
      "Prediction Error: [-11884.20739738]\n"
     ]
    }
   ],
   "source": [
    "predictions = model.predict(X)\n",
    "print(f\"True output: {y[0]}\")\n",
    "print(f\"Predicted output: {predictions[0]}\")\n",
    "print(f\"Prediction Error: {predictions[0]-y[0]}\")"
   ]
  },
  {
   "cell_type": "code",
   "execution_count": 25,
   "metadata": {},
   "outputs": [
    {
     "name": "stdout",
     "output_type": "stream",
     "text": [
      "Mean Squared Error (MSE): 84397293.17789806\n",
      "R-squared (R2 ): -109762.57153227332\n"
     ]
    }
   ],
   "source": [
    "from sklearn.metrics import mean_squared_error, r2_score\n",
    "\n",
    "\n",
    "predicted = model.predict(X_test)\n",
    "\n",
    "mse = mean_squared_error(y_test, predicted)\n",
    "r2 = r2_score(y_test, predicted)\n",
    "\n",
    "print(f\"Mean Squared Error (MSE): {mse}\")\n",
    "print(f\"R-squared (R2 ): {r2}\")"
   ]
  },
  {
   "cell_type": "markdown",
   "metadata": {},
   "source": [
    "# Random Forrests\n"
   ]
  },
  {
   "cell_type": "code",
   "execution_count": 26,
   "metadata": {},
   "outputs": [],
   "source": [
    "from sklearn import tree\n",
    "import pandas as pd\n",
    "import os"
   ]
  },
  {
   "cell_type": "code",
   "execution_count": 27,
   "metadata": {},
   "outputs": [
    {
     "data": {
      "text/html": [
       "<div>\n",
       "<style scoped>\n",
       "    .dataframe tbody tr th:only-of-type {\n",
       "        vertical-align: middle;\n",
       "    }\n",
       "\n",
       "    .dataframe tbody tr th {\n",
       "        vertical-align: top;\n",
       "    }\n",
       "\n",
       "    .dataframe thead th {\n",
       "        text-align: right;\n",
       "    }\n",
       "</style>\n",
       "<table border=\"1\" class=\"dataframe\">\n",
       "  <thead>\n",
       "    <tr style=\"text-align: right;\">\n",
       "      <th></th>\n",
       "      <th>Date</th>\n",
       "      <th>Open</th>\n",
       "      <th>High</th>\n",
       "      <th>Low</th>\n",
       "      <th>Close</th>\n",
       "      <th>Volume</th>\n",
       "    </tr>\n",
       "  </thead>\n",
       "  <tbody>\n",
       "    <tr>\n",
       "      <td>0</td>\n",
       "      <td>2013-09-03</td>\n",
       "      <td>74.83</td>\n",
       "      <td>75.25</td>\n",
       "      <td>73.68</td>\n",
       "      <td>73.90</td>\n",
       "      <td>7802800.0</td>\n",
       "    </tr>\n",
       "    <tr>\n",
       "      <td>1</td>\n",
       "      <td>2013-09-04</td>\n",
       "      <td>73.98</td>\n",
       "      <td>74.51</td>\n",
       "      <td>73.74</td>\n",
       "      <td>74.14</td>\n",
       "      <td>8271600.0</td>\n",
       "    </tr>\n",
       "    <tr>\n",
       "      <td>2</td>\n",
       "      <td>2013-09-05</td>\n",
       "      <td>74.07</td>\n",
       "      <td>74.21</td>\n",
       "      <td>72.84</td>\n",
       "      <td>72.99</td>\n",
       "      <td>11039000.0</td>\n",
       "    </tr>\n",
       "    <tr>\n",
       "      <td>3</td>\n",
       "      <td>2013-09-06</td>\n",
       "      <td>73.55</td>\n",
       "      <td>73.56</td>\n",
       "      <td>72.21</td>\n",
       "      <td>72.70</td>\n",
       "      <td>9968400.0</td>\n",
       "    </tr>\n",
       "    <tr>\n",
       "      <td>4</td>\n",
       "      <td>2013-09-09</td>\n",
       "      <td>72.98</td>\n",
       "      <td>73.79</td>\n",
       "      <td>72.90</td>\n",
       "      <td>73.58</td>\n",
       "      <td>5781800.0</td>\n",
       "    </tr>\n",
       "  </tbody>\n",
       "</table>\n",
       "</div>"
      ],
      "text/plain": [
       "        Date   Open   High    Low  Close      Volume\n",
       "0 2013-09-03  74.83  75.25  73.68  73.90   7802800.0\n",
       "1 2013-09-04  73.98  74.51  73.74  74.14   8271600.0\n",
       "2 2013-09-05  74.07  74.21  72.84  72.99  11039000.0\n",
       "3 2013-09-06  73.55  73.56  72.21  72.70   9968400.0\n",
       "4 2013-09-09  72.98  73.79  72.90  73.58   5781800.0"
      ]
     },
     "execution_count": 27,
     "metadata": {},
     "output_type": "execute_result"
    }
   ],
   "source": [
    "stock_open_close_df.head()\n"
   ]
  },
  {
   "cell_type": "code",
   "execution_count": 28,
   "metadata": {},
   "outputs": [],
   "source": [
    "stock_open_close_df \n",
    "df['que'] = np.where((df['Open'] >= df['Close']), \"decrease\", \"increase\")\n",
    "df = stock_open_close_df"
   ]
  },
  {
   "cell_type": "code",
   "execution_count": 29,
   "metadata": {},
   "outputs": [
    {
     "data": {
      "text/html": [
       "<div>\n",
       "<style scoped>\n",
       "    .dataframe tbody tr th:only-of-type {\n",
       "        vertical-align: middle;\n",
       "    }\n",
       "\n",
       "    .dataframe tbody tr th {\n",
       "        vertical-align: top;\n",
       "    }\n",
       "\n",
       "    .dataframe thead th {\n",
       "        text-align: right;\n",
       "    }\n",
       "</style>\n",
       "<table border=\"1\" class=\"dataframe\">\n",
       "  <thead>\n",
       "    <tr style=\"text-align: right;\">\n",
       "      <th></th>\n",
       "      <th>Date</th>\n",
       "      <th>Open</th>\n",
       "      <th>High</th>\n",
       "      <th>Low</th>\n",
       "      <th>Close</th>\n",
       "      <th>Volume</th>\n",
       "    </tr>\n",
       "  </thead>\n",
       "  <tbody>\n",
       "    <tr>\n",
       "      <td>0</td>\n",
       "      <td>2013-09-03</td>\n",
       "      <td>74.83</td>\n",
       "      <td>75.25</td>\n",
       "      <td>73.68</td>\n",
       "      <td>73.90</td>\n",
       "      <td>7802800.0</td>\n",
       "    </tr>\n",
       "    <tr>\n",
       "      <td>1</td>\n",
       "      <td>2013-09-04</td>\n",
       "      <td>73.98</td>\n",
       "      <td>74.51</td>\n",
       "      <td>73.74</td>\n",
       "      <td>74.14</td>\n",
       "      <td>8271600.0</td>\n",
       "    </tr>\n",
       "    <tr>\n",
       "      <td>2</td>\n",
       "      <td>2013-09-05</td>\n",
       "      <td>74.07</td>\n",
       "      <td>74.21</td>\n",
       "      <td>72.84</td>\n",
       "      <td>72.99</td>\n",
       "      <td>11039000.0</td>\n",
       "    </tr>\n",
       "    <tr>\n",
       "      <td>3</td>\n",
       "      <td>2013-09-06</td>\n",
       "      <td>73.55</td>\n",
       "      <td>73.56</td>\n",
       "      <td>72.21</td>\n",
       "      <td>72.70</td>\n",
       "      <td>9968400.0</td>\n",
       "    </tr>\n",
       "    <tr>\n",
       "      <td>4</td>\n",
       "      <td>2013-09-09</td>\n",
       "      <td>72.98</td>\n",
       "      <td>73.79</td>\n",
       "      <td>72.90</td>\n",
       "      <td>73.58</td>\n",
       "      <td>5781800.0</td>\n",
       "    </tr>\n",
       "  </tbody>\n",
       "</table>\n",
       "</div>"
      ],
      "text/plain": [
       "        Date   Open   High    Low  Close      Volume\n",
       "0 2013-09-03  74.83  75.25  73.68  73.90   7802800.0\n",
       "1 2013-09-04  73.98  74.51  73.74  74.14   8271600.0\n",
       "2 2013-09-05  74.07  74.21  72.84  72.99  11039000.0\n",
       "3 2013-09-06  73.55  73.56  72.21  72.70   9968400.0\n",
       "4 2013-09-09  72.98  73.79  72.90  73.58   5781800.0"
      ]
     },
     "execution_count": 29,
     "metadata": {},
     "output_type": "execute_result"
    }
   ],
   "source": [
    "df.head()"
   ]
  },
  {
   "cell_type": "code",
   "execution_count": 32,
   "metadata": {},
   "outputs": [],
   "source": [
    "target = stock_open_close_df[\"Move\"]\n",
    "target_names = [\"negative\", \"positive\"]"
   ]
  },
  {
   "cell_type": "code",
   "execution_count": 33,
   "metadata": {},
   "outputs": [
    {
     "data": {
      "text/html": [
       "<div>\n",
       "<style scoped>\n",
       "    .dataframe tbody tr th:only-of-type {\n",
       "        vertical-align: middle;\n",
       "    }\n",
       "\n",
       "    .dataframe tbody tr th {\n",
       "        vertical-align: top;\n",
       "    }\n",
       "\n",
       "    .dataframe thead th {\n",
       "        text-align: right;\n",
       "    }\n",
       "</style>\n",
       "<table border=\"1\" class=\"dataframe\">\n",
       "  <thead>\n",
       "    <tr style=\"text-align: right;\">\n",
       "      <th></th>\n",
       "      <th>Open</th>\n",
       "      <th>High</th>\n",
       "      <th>Low</th>\n",
       "      <th>Volume</th>\n",
       "    </tr>\n",
       "  </thead>\n",
       "  <tbody>\n",
       "    <tr>\n",
       "      <td>0</td>\n",
       "      <td>74.83</td>\n",
       "      <td>75.25</td>\n",
       "      <td>73.68</td>\n",
       "      <td>7802800.0</td>\n",
       "    </tr>\n",
       "    <tr>\n",
       "      <td>1</td>\n",
       "      <td>73.98</td>\n",
       "      <td>74.51</td>\n",
       "      <td>73.74</td>\n",
       "      <td>8271600.0</td>\n",
       "    </tr>\n",
       "    <tr>\n",
       "      <td>2</td>\n",
       "      <td>74.07</td>\n",
       "      <td>74.21</td>\n",
       "      <td>72.84</td>\n",
       "      <td>11039000.0</td>\n",
       "    </tr>\n",
       "    <tr>\n",
       "      <td>3</td>\n",
       "      <td>73.55</td>\n",
       "      <td>73.56</td>\n",
       "      <td>72.21</td>\n",
       "      <td>9968400.0</td>\n",
       "    </tr>\n",
       "    <tr>\n",
       "      <td>4</td>\n",
       "      <td>72.98</td>\n",
       "      <td>73.79</td>\n",
       "      <td>72.90</td>\n",
       "      <td>5781800.0</td>\n",
       "    </tr>\n",
       "  </tbody>\n",
       "</table>\n",
       "</div>"
      ],
      "text/plain": [
       "    Open   High    Low      Volume\n",
       "0  74.83  75.25  73.68   7802800.0\n",
       "1  73.98  74.51  73.74   8271600.0\n",
       "2  74.07  74.21  72.84  11039000.0\n",
       "3  73.55  73.56  72.21   9968400.0\n",
       "4  72.98  73.79  72.90   5781800.0"
      ]
     },
     "execution_count": 33,
     "metadata": {},
     "output_type": "execute_result"
    }
   ],
   "source": [
    "data = stock_open_close_df.drop(columns = [\"Close\", \"Date\", \"Move\"])\n",
    "feature_names = data.columns\n",
    "data.head()"
   ]
  },
  {
   "cell_type": "code",
   "execution_count": 34,
   "metadata": {},
   "outputs": [],
   "source": [
    "from sklearn.model_selection import train_test_split\n",
    "X_train, X_test, y_train, y_test = train_test_split(data, target, random_state=42)"
   ]
  },
  {
   "cell_type": "code",
   "execution_count": 35,
   "metadata": {},
   "outputs": [
    {
     "data": {
      "text/plain": [
       "0.6446886446886447"
      ]
     },
     "execution_count": 35,
     "metadata": {},
     "output_type": "execute_result"
    }
   ],
   "source": [
    "clf = tree.DecisionTreeClassifier()\n",
    "clf = clf.fit(X_train, y_train)\n",
    "clf.score(X_test, y_test)"
   ]
  },
  {
   "cell_type": "code",
   "execution_count": null,
   "metadata": {},
   "outputs": [],
   "source": [
    "import preprocess_data as ppd\n",
    "stocks = ppd.remove_data(stock_open_close_df)"
   ]
  },
  {
   "cell_type": "code",
   "execution_count": null,
   "metadata": {},
   "outputs": [],
   "source": [
    "print(stocks.head())\n",
    "print(stocks.tail())\n"
   ]
  },
  {
   "cell_type": "code",
   "execution_count": null,
   "metadata": {},
   "outputs": [],
   "source": [
    "import visualize\n",
    "\n",
    "visualize.plot_basic(stocks)\n"
   ]
  },
  {
   "cell_type": "code",
   "execution_count": null,
   "metadata": {},
   "outputs": [],
   "source": []
  }
 ],
 "metadata": {
  "kernelspec": {
   "display_name": "Python 3",
   "language": "python",
   "name": "python3"
  },
  "language_info": {
   "codemirror_mode": {
    "name": "ipython",
    "version": 3
   },
   "file_extension": ".py",
   "mimetype": "text/x-python",
   "name": "python",
   "nbconvert_exporter": "python",
   "pygments_lexer": "ipython3",
   "version": "3.7.4"
  }
 },
 "nbformat": 4,
 "nbformat_minor": 2
}
